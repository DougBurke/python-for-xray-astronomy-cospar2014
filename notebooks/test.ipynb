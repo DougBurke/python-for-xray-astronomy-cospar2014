{
 "metadata": {
  "name": "",
  "signature": "sha256:0fb1ee98fb00e351e7643ff5ca46ea6121b98de344d3b29758516c2e1eb6c3bc"
 },
 "nbformat": 3,
 "nbformat_minor": 0,
 "worksheets": [
  {
   "cells": [
    {
     "cell_type": "heading",
     "level": 1,
     "metadata": {},
     "source": [
      "A quick - and highly biased - tour of Python for X-ray Astronomy"
     ]
    },
    {
     "cell_type": "heading",
     "level": 2,
     "metadata": {},
     "source": [
      "Doug Burke, Chandra X-ray Center"
     ]
    },
    {
     "cell_type": "heading",
     "level": 3,
     "metadata": {},
     "source": [
      "Presented at the COSPAR Capacity Building Workshop, 'X-ray Astrophysics School', Ensenada, Mexico, November 2014"
     ]
    },
    {
     "cell_type": "heading",
     "level": 4,
     "metadata": {},
     "source": [
      "How many headers can we have?"
     ]
    },
    {
     "cell_type": "heading",
     "level": 2,
     "metadata": {},
     "source": [
      "What is Python?"
     ]
    },
    {
     "cell_type": "markdown",
     "metadata": {},
     "source": [
      "Let's ask Wolfram Alpha:\n",
      "\n",
      "![Python: snake](files/python-snake.png)\n",
      "\n",
      "Oops; let's focus on the programming language:\n",
      "\n",
      "![Python: language](files/python-language.png)"
     ]
    },
    {
     "cell_type": "markdown",
     "metadata": {},
     "source": [
      "-----"
     ]
    },
    {
     "cell_type": "heading",
     "level": 2,
     "metadata": {},
     "source": [
      "Why Python?"
     ]
    },
    {
     "cell_type": "markdown",
     "metadata": {},
     "source": [
      "![XKCD](files/python-xkcd.png)\n",
      "\n",
      "http://xkcd.com/353/"
     ]
    },
    {
     "cell_type": "markdown",
     "metadata": {},
     "source": [
      "There are a lot of Astronomers - and people in *related* (i.e. useful) fields - who provide tutorials, code, modules, workshops, and help. For instance, I saw this on Monday:\n",
      "\n",
      "\"Frequentism and Bayesianism: A Python-driven Primer\", Jake VanderPlas, November 18, 2014:\n",
      "\n",
      "> This paper presents a brief, semi-technical comparison of the essential features of the frequentist and Bayesian approaches to statistical inference, with several illustrative examples implemented in Python. The differences between frequentism and Bayesianism fundamentally stem from differing definitions of probability, a philosophical divide which leads to distinct approaches to the solution of statistical problems as well as contrasting ways of asking and answering questions about unknown parameters. After an example-driven discussion of these differences, we briefly compare several leading Python statistical packages which implement frequentist inference using classical methods and Bayesian inference using Markov Chain Monte Carlo. \n",
      "\n",
      "http://arxiv.org/abs/1411.5018"
     ]
    },
    {
     "cell_type": "markdown",
     "metadata": {},
     "source": [
      "-----\n",
      "\n",
      "There are many examples; here is one I found that I thought would be relevant for this workshop:\n",
      "\n",
      "![Bayesian](files/bayesian.png)\n",
      "\n",
      "http://allendowney.blogspot.mx/2014/11/the-world-cup-problem-part-2-germany-v.html\n",
      "\n",
      "-----"
     ]
    },
    {
     "cell_type": "heading",
     "level": 2,
     "metadata": {},
     "source": [
      "Yes, yes, I get it, how do I start Python?"
     ]
    },
    {
     "cell_type": "markdown",
     "metadata": {},
     "source": [
      "Starting python for interactive use, use `ipython` (you can use python for interactive analysis, but it's not as nice):\n",
      "\n",
      "    unix% ipython\n",
      "    Python 2.7.6 (default, Apr 18 2014, 17:48:56) \n",
      "    Type \"copyright\", \"credits\" or \"license\" for more information.\n",
      "\n",
      "    IPython 2.0.0 -- An enhanced Interactive Python.\n",
      "    ?         -> Introduction and overview of IPython's features.\n",
      "    %quickref -> Quick reference.\n",
      "    help      -> Python's own help system.\n",
      "    object?   -> Details about 'object', use 'object??' for extra details.\n",
      "\n",
      "    In [1]: import antigravity\n",
      "\n",
      "    In [2]: import this\n",
      "    The Zen of Python, by Tim Peters\n",
      "\n",
      "    Beautiful is better than ugly.\n",
      "    Explicit is better than implicit.\n",
      "    Simple is better than complex.\n",
      "    Complex is better than complicated.\n",
      "    Flat is better than nested.\n",
      "    Sparse is better than dense.\n",
      "    Readability counts.\n",
      "    Special cases aren't special enough to break the rules.\n",
      "    Although practicality beats purity.\n",
      "    Errors should never pass silently.\n",
      "    Unless explicitly silenced.\n",
      "    In the face of ambiguity, refuse the temptation to guess.\n",
      "    There should be one-- and preferably only one --obvious way to do it.\n",
      "    Although that way may not be obvious at first unless you're Dutch.\n",
      "    Now is better than never.\n",
      "    Although never is often better than *right* now.\n",
      "    If the implementation is hard to explain, it's a bad idea.\n",
      "    If the implementation is easy to explain, it may be a good idea.\n",
      "    Namespaces are one honking great idea -- let's do more of those!\n",
      "\n",
      "If you want to \"run a script\" - i.e. something that you don't want to run interactively - then you can just say\n",
      "\n",
      "    python my-wonderful-script-for-suzaku-analysis.py\n",
      "\n",
      "and you can even make scripts executable and use a \"shebang\" line to avoid the need to say `python` (e.g. the CIAO `chandra_repro` script is written in Python).\n",
      "\n",
      "Note that there are several versions to be aware of:\n",
      "\n",
      " - the Python version (\"big\" changes between Python 2.x and Python 3.y)\n",
      " \n",
      " - the IPython version\n",
      " \n",
      " - the versions of various packages/systems we use (e.g. `NumPy` and `Matplotlib`; these versions aren't shown here)"
     ]
    },
    {
     "cell_type": "heading",
     "level": 2,
     "metadata": {},
     "source": [
      "What about R?"
     ]
    },
    {
     "cell_type": "markdown",
     "metadata": {},
     "source": [
      "You should also be aware of `R` - [The R project for Statistical Computing](http://www.r-project.org/) -\n",
      "which is not Python (and you can combine both if you realy want to), but is important as Astronomy moves into the era of\n",
      "\n",
      "![big data](files/big_data.png)\n",
      "\n",
      "courtesy of https://medium.com/@wtrsld/big-data-made-me-do-it-5bfc3f46871c"
     ]
    },
    {
     "cell_type": "heading",
     "level": 2,
     "metadata": {},
     "source": [
      "Terminology"
     ]
    },
    {
     "cell_type": "markdown",
     "metadata": {},
     "source": [
      " - Object Oriented\n",
      " \n",
      " - Dynamic Typing\n",
      " \n",
      " - Strongly Typed\n",
      " \n",
      "I have a brief introduction at another [IPython notebook](http://nbviewer.ipython.org/github/DougBurke/intern-notebooks/blob/master/intro/intro.ipynb) but there are many other, better, examples around.\n",
      " \n",
      "Computer Science has its own terminology, just like X-ray Astronomy."
     ]
    },
    {
     "cell_type": "code",
     "collapsed": false,
     "input": [
      "from IPython.display import Image\n",
      "Image('files/question.jpg')"
     ],
     "language": "python",
     "metadata": {},
     "outputs": []
    },
    {
     "cell_type": "markdown",
     "metadata": {},
     "source": [
      " - XMM has patterns, Chandra has ???\n",
      " \n",
      " - Optical has blue and red, X-ray Astronomers use ??? and ???"
     ]
    },
    {
     "cell_type": "heading",
     "level": 2,
     "metadata": {},
     "source": [
      "Important words and phrases"
     ]
    },
    {
     "cell_type": "markdown",
     "metadata": {},
     "source": [
      " - Python\n",
      " - IPython\n",
      " - NumPy - without this there would be no numerical analysis in Python \n",
      " - SciPy - without this the scientific Python stack would be easier to install, but there's a *lot* of usefun functionality here\n",
      " - Matplotlib - plots, images, plots and images, ... plenty of documentation - e.g. http://nbviewer.ipython.org/github/jrjohansson/scientific-python-lectures/blob/master/Lecture-4-Matplotlib.ipynb\n",
      " - \"Stand alone\" Sherpa http://cxc.cfa.harvard.edu/contrib/sherpa47b/ + on GitHub mid December 2014.\n",
      " - AstroPy http://www.astropy.org/\n",
      " - AstroML: Machine Learning and Data Mining for Astronomy http://www.astroml.org/\n",
      " - Pandas (Python Data Analysis Library) http://pandas.pydata.org/\n",
      " - Astronomical dendograms in Python http://dendrograms.readthedocs.org/en/latest/\n",
      " - Glue (multidmensional data exploration in Python) http://www.glueviz.org/en/stable/\n",
      " - notebooks - what you are looking at now\n",
      " - ...\n",
      " \n",
      "Google(*) for \"python for Astronomy\".\n",
      "\n",
      "(* not Wolfram Alpha!)\n",
      "\n",
      "Note: many of these packages are changing *fast*.\n",
      "\n",
      "![searching for Astronomy](files/astro-python.png)\n",
      "\n",
      " - Here's the AstroPy home page:\n",
      "\n",
      "![AstroPy home page](files/astropy.png)\n",
      "\n",
      " - self promotion, as I'm an author of this paper...\n",
      " \n",
      "> Acknowledging or Citing Astropy In Publications\n",
      "\n",
      "> If you use Astropy for work/research presented in a publication (whether directly, or as a dependency to another package), we would be grateful if you could include the following acknowledgment:\n",
      "\n",
      "> This research made use of Astropy, a community-developed core Python package for Astronomy (Astropy Collaboration, 2013).\n",
      "\n",
      "> where (Astropy Collaboration, 2013) is a citation to the Astropy Paper (ADS - BibTeX). If you wish, you can also include a link to http://www.astropy.org (if the journal allows this) in addition to the above text.\n",
      "\n",
      " - and just to re-iterate this; here's the paper on ADS\n",
      " \n",
      "![AstroPy citation on ADS](files/ads.png)\n",
      "\n",
      "**Quick question:** who uses the \"new\" ADS interface?\n",
      "\n",
      " - here's the Machine Learning book; or at least its cover\n",
      " \n",
      "![AstroML book](files/astroml.png)\n",
      "\n",
      " - there are plenty of tutorials using IPython notebooks\n",
      " \n",
      "![IPython, notebooks, and Astronomy](files/notebooks.png)\n",
      "\n",
      " - and there are some \"different\" things you can do too\n",
      " \n",
      "![Matplotlib and XKXD](files/matplotlib-xkcd.png)"
     ]
    },
    {
     "cell_type": "heading",
     "level": 2,
     "metadata": {},
     "source": [
      "Installation"
     ]
    },
    {
     "cell_type": "markdown",
     "metadata": {},
     "source": [
      "It's as easy as CIAO, SAS, and FTOOLS, all rolled up as one ...\n",
      "\n",
      "CIAO has its own Python installation (works well in most cases, but it does not play nicely with other systems). Radio and HST have something similar.\n",
      "\n",
      "A popular installation is Anaconda https://store.continuum.io/cshop/anaconda/ since it is a binary installation (SciPy can be a *tad* awkward to build) with a lot of scientific software provided, including `astropy`.\n",
      "\n",
      "Your computer almost-certainly has its own Python installation.\n",
      "\n",
      "Mixing and matching the different installations will lead to \n",
      "\n",
      "![Sad Panda](files/sad-panda.jpg)"
     ]
    },
    {
     "cell_type": "markdown",
     "metadata": {},
     "source": [
      "-----"
     ]
    },
    {
     "cell_type": "heading",
     "level": 2,
     "metadata": {},
     "source": [
      "Using (I)Python"
     ]
    },
    {
     "cell_type": "markdown",
     "metadata": {},
     "source": [
      "For the notebook I need to tell `Matplotlib` to add the images \"into\" the notebook, rather than throw up a window.\n",
      "\n",
      "Err, I don't think I thought that sentence through..."
     ]
    },
    {
     "cell_type": "code",
     "collapsed": false,
     "input": [
      "%matplotlib inline"
     ],
     "language": "python",
     "metadata": {},
     "outputs": []
    },
    {
     "cell_type": "markdown",
     "metadata": {},
     "source": [
      "The main reason for using Python is because there's code out there that is useful to us; here's some useful imports - if you say\n",
      "\n",
      "    ipython --pylab\n",
      "    \n",
      "then this is done for you (note that this depends on the *version* of `IPython` you are using; e.g. `ipython -pylab` or `ipython --matplotlib qt`)."
     ]
    },
    {
     "cell_type": "code",
     "collapsed": false,
     "input": [
      "import numpy as np\n",
      "import matplotlib.pyplot as plt"
     ],
     "language": "python",
     "metadata": {},
     "outputs": []
    },
    {
     "cell_type": "code",
     "collapsed": false,
     "input": [
      "plt.rcParams['figure.figsize'] = (8, 6)"
     ],
     "language": "python",
     "metadata": {},
     "outputs": []
    },
    {
     "cell_type": "markdown",
     "metadata": {},
     "source": [
      "I am going to use AstroPy - remember: http://www.astropy.org/ - to read in FITS data:"
     ]
    },
    {
     "cell_type": "code",
     "collapsed": false,
     "input": [
      "from astropy.io import fits"
     ],
     "language": "python",
     "metadata": {},
     "outputs": []
    },
    {
     "cell_type": "markdown",
     "metadata": {},
     "source": [
      "You can use `help(fits)`, but the output is a *bit* long for this example, so I've picked a `symbol` somewhat at random:"
     ]
    },
    {
     "cell_type": "code",
     "collapsed": false,
     "input": [
      "help(plt.plot)"
     ],
     "language": "python",
     "metadata": {},
     "outputs": []
    },
    {
     "cell_type": "markdown",
     "metadata": {},
     "source": [
      "The reason for all the `:class...` and extra chatacters, such as `*` and `~` - is to make a \"nice\" HTML page:\n",
      "\n",
      "![on the web it looks nicer](files/matplotlib-api.png)\n",
      "\n",
      "http://matplotlib.org/api/pyplot_api.html#matplotlib.pyplot.plot"
     ]
    },
    {
     "cell_type": "markdown",
     "metadata": {},
     "source": [
      "You can find out what `symbols` - i.e. the name of a \"thing\" - are attached to another `symbol` using the `dir` command:"
     ]
    },
    {
     "cell_type": "code",
     "collapsed": false,
     "input": [
      "dir(fits)"
     ],
     "language": "python",
     "metadata": {},
     "outputs": []
    },
    {
     "cell_type": "markdown",
     "metadata": {},
     "source": [
      "-----\n",
      "\n",
      "**Don't forget to talk about tab completion!**\n",
      "\n",
      "-----"
     ]
    },
    {
     "cell_type": "markdown",
     "metadata": {},
     "source": [
      "I want to read in a FITS file, so `open` looks a good place to start (plus, I've used this module before, so I know what I want to do ;-)."
     ]
    },
    {
     "cell_type": "code",
     "collapsed": false,
     "input": [
      "help(fits.open)"
     ],
     "language": "python",
     "metadata": {},
     "outputs": []
    },
    {
     "cell_type": "markdown",
     "metadata": {},
     "source": [
      "Let's look in the data directory:"
     ]
    },
    {
     "cell_type": "code",
     "collapsed": false,
     "input": [
      "%ls data"
     ],
     "language": "python",
     "metadata": {},
     "outputs": []
    },
    {
     "cell_type": "markdown",
     "metadata": {},
     "source": [
      "For some common commands you do not need the `%` character; so I could have said:"
     ]
    },
    {
     "cell_type": "code",
     "collapsed": false,
     "input": [
      "ls data"
     ],
     "language": "python",
     "metadata": {},
     "outputs": []
    },
    {
     "cell_type": "markdown",
     "metadata": {},
     "source": [
      "Let's read in some data:"
     ]
    },
    {
     "cell_type": "code",
     "collapsed": false,
     "input": [
      "hdus = fits.open('data/mystery-picture.fits')"
     ],
     "language": "python",
     "metadata": {},
     "outputs": []
    },
    {
     "cell_type": "markdown",
     "metadata": {},
     "source": [
      "-----\n",
      "\n",
      "Aside:\n",
      "    \n",
      "    import astropy.io.fits\n",
      "    hdus = astropy.io.fits.open(...)\n",
      "    \n",
      "    import astropy.io.fits as keith\n",
      "    hdus = keith.open(...)\n",
      "    \n",
      "    import astropy.io.fits\n",
      "    keith = astropy.io.fits.open\n",
      "    hdus = keith.open(...)\n",
      "    \n",
      "    # do *NOT* do the following, as it will overwrite the \n",
      "    # standard `open` function, leading to \"amusing\" erros\n",
      "    # at some time in the future\n",
      "    from astropy.io.fits import open\n",
      "    hdus = open(...)\n",
      "\n",
      "    # Similarly, don't use the name time for a variable.\n",
      "    \n",
      "-----"
     ]
    },
    {
     "cell_type": "markdown",
     "metadata": {},
     "source": [
      "If you are wondering what a `symbol` \"means\", you can try just entering it at the prompt and seeing what gets returned (remember, this is IPython, which automatically prints out anything that is \"returned\", as long as it is not the special value `None`)."
     ]
    },
    {
     "cell_type": "code",
     "collapsed": false,
     "input": [
      "hdus"
     ],
     "language": "python",
     "metadata": {},
     "outputs": []
    },
    {
     "cell_type": "markdown",
     "metadata": {},
     "source": [
      "So, it is an array of \"things\", and there's only one of these \"things\". So, let's access the first element, which is labelled 0 in Python:"
     ]
    },
    {
     "cell_type": "code",
     "collapsed": false,
     "input": [
      "ihdu = hdus[0]\n",
      "ihdu"
     ],
     "language": "python",
     "metadata": {},
     "outputs": []
    },
    {
     "cell_type": "markdown",
     "metadata": {},
     "source": [
      "If you want to find out how long something is, use `len`:"
     ]
    },
    {
     "cell_type": "code",
     "collapsed": false,
     "input": [
      "len(hdus)"
     ],
     "language": "python",
     "metadata": {},
     "outputs": []
    },
    {
     "cell_type": "code",
     "collapsed": false,
     "input": [
      "len(\"Carlos \u00e9 magn\u00edfico\")"
     ],
     "language": "python",
     "metadata": {},
     "outputs": []
    },
    {
     "cell_type": "markdown",
     "metadata": {},
     "source": [
      "but not everything has a \"length\":"
     ]
    },
    {
     "cell_type": "markdown",
     "metadata": {},
     "source": [
      "-----\n",
      "\n",
      "A quick aside on errors:\n"
     ]
    },
    {
     "cell_type": "code",
     "collapsed": false,
     "input": [
      "len(ihdu)"
     ],
     "language": "python",
     "metadata": {},
     "outputs": []
    },
    {
     "cell_type": "markdown",
     "metadata": {},
     "source": [
      "As with using SAS, FTOOLS, CIAO, ... - it is helpful to know how to \"read\" error messages!\n",
      "\n",
      "-----"
     ]
    },
    {
     "cell_type": "markdown",
     "metadata": {},
     "source": [
      "So, you can have multiple lines in each \"cell\" of the notebook that get executed, and it's the output from the last command that will get displayed. That means that"
     ]
    },
    {
     "cell_type": "code",
     "collapsed": false,
     "input": [
      "2 + 3\n",
      "\"David Hasselhoff en alem\u00e1n significa impresionante\"\n",
      "(-3.4 + 2j) * (4.1 - 0.8j)"
     ],
     "language": "python",
     "metadata": {},
     "outputs": []
    },
    {
     "cell_type": "markdown",
     "metadata": {},
     "source": [
      "This is only important if you are using IPython notebooks (so I don't know why I mentioned it).\n",
      "\n",
      "Alternatively you can use the `print` command (in Python 2.x it doesn't need the `()` around what you want to print but it is needed in 3.x and above)."
     ]
    },
    {
     "cell_type": "code",
     "collapsed": false,
     "input": [
      "print(ihdu)"
     ],
     "language": "python",
     "metadata": {},
     "outputs": []
    },
    {
     "cell_type": "code",
     "collapsed": false,
     "input": [
      "print ihdu"
     ],
     "language": "python",
     "metadata": {},
     "outputs": []
    },
    {
     "cell_type": "markdown",
     "metadata": {},
     "source": [
      "Some Python classes have written a \"human-readable\" output for `print` (or for when you just get IPython to display the value), as we will see very soon. "
     ]
    },
    {
     "cell_type": "code",
     "collapsed": false,
     "input": [
      "dir(ihdu)"
     ],
     "language": "python",
     "metadata": {},
     "outputs": []
    },
    {
     "cell_type": "markdown",
     "metadata": {},
     "source": [
      "So now I want to look at the pixel data, which I happen to know is stored in the `data` attribute of the `PrimaryHDU` object."
     ]
    },
    {
     "cell_type": "markdown",
     "metadata": {},
     "source": [
      "-----\n",
      "\n",
      "Aside: when do I use `()`?"
     ]
    },
    {
     "cell_type": "code",
     "collapsed": false,
     "input": [
      "carlos = ihdu.data()"
     ],
     "language": "python",
     "metadata": {},
     "outputs": []
    },
    {
     "cell_type": "markdown",
     "metadata": {},
     "source": [
      "Note that you *can* refer to a function - i.e. something that needs `()` - without them and not get an error; in fact, this can be vitally important in some cases. It does mean potential confusion for new users who don't know what is a function (thing that can get called) and what is an attribute (thing that contains information).\n",
      "\n",
      "In reality it's more complex, since attributes can be made to call routines automatically when accessed, but that's all hidden behind the scenes and you don't need to really know about this until you start writing your own classes.\n",
      "\n",
      "Oh, you can also tell IPython to allow you to write\n",
      "\n",
      "    symbol value\n",
      "    \n",
      "and get it to add in the brackets for you; e.g.\n",
      "\n",
      "    In [999]: open \"swift-is-awesome.dat\"\n",
      "    -------> open(\"swift-is-awesome.dat\")\n",
      "    IOError: [Errno 2] No such file or directory: 'swift-is-awesome.dat'\n",
      "\n",
      "which we use in ChIPS and Sherpa, but it's not standard, as it makes writing code\n",
      "hard (or at least, copying and pasting code hard).\n",
      "\n",
      "-----"
     ]
    },
    {
     "cell_type": "code",
     "collapsed": false,
     "input": [
      "carlos = ihdu.data"
     ],
     "language": "python",
     "metadata": {},
     "outputs": []
    },
    {
     "cell_type": "code",
     "collapsed": false,
     "input": [
      "carlos == hdus[0].data"
     ],
     "language": "python",
     "metadata": {},
     "outputs": []
    },
    {
     "cell_type": "code",
     "collapsed": false,
     "input": [
      "np.all(carlos == hdus[0].data)"
     ],
     "language": "python",
     "metadata": {},
     "outputs": []
    },
    {
     "cell_type": "markdown",
     "metadata": {},
     "source": [
      "What this is saying is that I can use either the symbol `carlos` or `hdus[0].data` to get at the data. It also shows off some basic NumPy functionality (storing arrays of data; doing things with the data).\n",
      "\n",
      "Let's see what this mysterios `carlos` is:"
     ]
    },
    {
     "cell_type": "code",
     "collapsed": false,
     "input": [
      "carlos"
     ],
     "language": "python",
     "metadata": {},
     "outputs": []
    },
    {
     "cell_type": "code",
     "collapsed": false,
     "input": [
      "print(carlos)"
     ],
     "language": "python",
     "metadata": {},
     "outputs": []
    },
    {
     "cell_type": "markdown",
     "metadata": {},
     "source": [
      "Note that the output of these two are slightly different from each other, and that they try to be \"nice\" and not display every element (this can actually be tweaked if you want, as it's a part of `NumPy`)."
     ]
    },
    {
     "cell_type": "code",
     "collapsed": false,
     "input": [
      "carlos.shape"
     ],
     "language": "python",
     "metadata": {},
     "outputs": []
    },
    {
     "cell_type": "markdown",
     "metadata": {},
     "source": [
      "And before Carlos complains, this is listed as number of Y pixels (so height) and then the number of X pixels (width). This is the \"C-like\" style of indexing array data, rather than the \"Fortran-like\" style."
     ]
    },
    {
     "cell_type": "code",
     "collapsed": false,
     "input": [
      "carlos.dtype"
     ],
     "language": "python",
     "metadata": {},
     "outputs": []
    },
    {
     "cell_type": "code",
     "collapsed": false,
     "input": [
      "plt.imshow(carlos)"
     ],
     "language": "python",
     "metadata": {},
     "outputs": []
    },
    {
     "cell_type": "code",
     "collapsed": false,
     "input": [
      "plt.set_cmap('grey')"
     ],
     "language": "python",
     "metadata": {},
     "outputs": []
    },
    {
     "cell_type": "markdown",
     "metadata": {},
     "source": [
      "As mentioned earlier, the error messages can be useful, if you know where to look..."
     ]
    },
    {
     "cell_type": "code",
     "collapsed": false,
     "input": [
      "plt.imshow(carlos)\n",
      "plt.set_cmap('gray')"
     ],
     "language": "python",
     "metadata": {},
     "outputs": []
    },
    {
     "cell_type": "markdown",
     "metadata": {},
     "source": [
      "Note that matplotlib can be run in a more interactive manner, in which case I could have just called `set_cmap` and it would have changed the existing plot. This doesn't work in the notebook environment that I am using, so we had to re-create the image here."
     ]
    },
    {
     "cell_type": "code",
     "collapsed": false,
     "input": [
      "mariano = carlos[400:,:]"
     ],
     "language": "python",
     "metadata": {},
     "outputs": []
    },
    {
     "cell_type": "code",
     "collapsed": false,
     "input": [
      "mariano.shape"
     ],
     "language": "python",
     "metadata": {},
     "outputs": []
    },
    {
     "cell_type": "markdown",
     "metadata": {},
     "source": [
      "If you know what you are doing, you can sometimes combine steps:"
     ]
    },
    {
     "cell_type": "code",
     "collapsed": false,
     "input": [
      "plt.imshow(mariano, cmap='gray')"
     ],
     "language": "python",
     "metadata": {},
     "outputs": []
    },
    {
     "cell_type": "code",
     "collapsed": false,
     "input": [
      "from skimage.filter import canny"
     ],
     "language": "python",
     "metadata": {},
     "outputs": []
    },
    {
     "cell_type": "code",
     "collapsed": false,
     "input": [
      "matteo = canny(mariano)"
     ],
     "language": "python",
     "metadata": {},
     "outputs": []
    },
    {
     "cell_type": "markdown",
     "metadata": {},
     "source": [
      "Remember you can use `help(canny)` to get more information. This information is also available on the web, since the Python documentation/help system makes it easy to convert the code documentation into other forms."
     ]
    },
    {
     "cell_type": "code",
     "collapsed": false,
     "input": [
      "matteo.shape"
     ],
     "language": "python",
     "metadata": {},
     "outputs": []
    },
    {
     "cell_type": "code",
     "collapsed": false,
     "input": [
      "matteo.dtype"
     ],
     "language": "python",
     "metadata": {},
     "outputs": []
    },
    {
     "cell_type": "code",
     "collapsed": false,
     "input": [
      "plt.imshow(matteo)"
     ],
     "language": "python",
     "metadata": {},
     "outputs": []
    },
    {
     "cell_type": "markdown",
     "metadata": {},
     "source": [
      "I don't expect you to know that `canny` is the routine to use here (or in fact, whether it is remotely useful for your analysis); the point is to say that there's lots of functionality available to you in NumPy, SciPy, ... so you don't always have to go and write your own code."
     ]
    },
    {
     "cell_type": "heading",
     "level": 2,
     "metadata": {},
     "source": [
      "A brief foray into timing analysis"
     ]
    },
    {
     "cell_type": "markdown",
     "metadata": {},
     "source": [
      "![Ack, variability](files/bill-the-cat.jpg)"
     ]
    },
    {
     "cell_type": "code",
     "collapsed": false,
     "input": [
      "hdus = fits.open(\"data/evt2.fits\")\n",
      "print(hdus)"
     ],
     "language": "python",
     "metadata": {},
     "outputs": []
    },
    {
     "cell_type": "code",
     "collapsed": false,
     "input": [
      "hdus.info()"
     ],
     "language": "python",
     "metadata": {},
     "outputs": []
    },
    {
     "cell_type": "code",
     "collapsed": false,
     "input": [
      "thdu = hdus[1]"
     ],
     "language": "python",
     "metadata": {},
     "outputs": []
    },
    {
     "cell_type": "code",
     "collapsed": false,
     "input": [
      "print(thdu.columns)"
     ],
     "language": "python",
     "metadata": {},
     "outputs": []
    },
    {
     "cell_type": "code",
     "collapsed": false,
     "input": [
      "coldata = thdu.data"
     ],
     "language": "python",
     "metadata": {},
     "outputs": []
    },
    {
     "cell_type": "code",
     "collapsed": false,
     "input": [
      "type(coldata)"
     ],
     "language": "python",
     "metadata": {},
     "outputs": []
    },
    {
     "cell_type": "code",
     "collapsed": false,
     "input": [
      "coldata.size"
     ],
     "language": "python",
     "metadata": {},
     "outputs": []
    },
    {
     "cell_type": "code",
     "collapsed": false,
     "input": [
      "coldata.shape"
     ],
     "language": "python",
     "metadata": {},
     "outputs": []
    },
    {
     "cell_type": "code",
     "collapsed": false,
     "input": [
      "coldata[0]"
     ],
     "language": "python",
     "metadata": {},
     "outputs": []
    },
    {
     "cell_type": "code",
     "collapsed": false,
     "input": [
      "times = coldata.field('time')"
     ],
     "language": "python",
     "metadata": {},
     "outputs": []
    },
    {
     "cell_type": "code",
     "collapsed": false,
     "input": [
      "times.shape"
     ],
     "language": "python",
     "metadata": {},
     "outputs": []
    },
    {
     "cell_type": "code",
     "collapsed": false,
     "input": [
      "times[0]"
     ],
     "language": "python",
     "metadata": {},
     "outputs": []
    },
    {
     "cell_type": "code",
     "collapsed": false,
     "input": [
      "dt = times - times[0]"
     ],
     "language": "python",
     "metadata": {},
     "outputs": []
    },
    {
     "cell_type": "markdown",
     "metadata": {},
     "source": [
      "So, `dt` is the arrival times of the *events*; since this is Chandra data the `TIME` column is in seconds in the Modified Julian Date system (with an \"arbitrary\" offset), `dt` is in seconds too (in this case *relative to* the *first* event)."
     ]
    },
    {
     "cell_type": "code",
     "collapsed": false,
     "input": [
      "dt[0:10]"
     ],
     "language": "python",
     "metadata": {},
     "outputs": []
    },
    {
     "cell_type": "markdown",
     "metadata": {},
     "source": [
      "Note that the times are discrete: why is this?"
     ]
    },
    {
     "cell_type": "code",
     "collapsed": false,
     "input": [
      "print(thdu.header['TIMEDEL'], thdu.header['EXPTIME'])"
     ],
     "language": "python",
     "metadata": {},
     "outputs": []
    },
    {
     "cell_type": "markdown",
     "metadata": {},
     "source": [
      "As an aside: if you need to create a string out of numbers and text, use `format`:"
     ]
    },
    {
     "cell_type": "code",
     "collapsed": false,
     "input": [
      "print(\"timedel={} exptime={}\".format(thdu.header['TIMEDEL'], thdu.header['EXPTIME']))"
     ],
     "language": "python",
     "metadata": {},
     "outputs": []
    },
    {
     "cell_type": "markdown",
     "metadata": {},
     "source": [
      "You will also see the use of `%` - as below - which is \"old Python\" and shouldn't really be used anymore (to make upgrading to Python 3 easier). "
     ]
    },
    {
     "cell_type": "code",
     "collapsed": false,
     "input": [
      "print \"timedel=%f exptime=%f\" % (thdu.header['TIMEDEL'], thdu.header['EXPTIME'])"
     ],
     "language": "python",
     "metadata": {},
     "outputs": []
    },
    {
     "cell_type": "code",
     "collapsed": false,
     "input": [
      "dt[:20] / thdu.header['EXPTIME']"
     ],
     "language": "python",
     "metadata": {},
     "outputs": []
    },
    {
     "cell_type": "code",
     "collapsed": false,
     "input": [
      "dt[0:20] / thdu.header['TIMEDEL']"
     ],
     "language": "python",
     "metadata": {},
     "outputs": []
    },
    {
     "cell_type": "code",
     "collapsed": false,
     "input": [
      "(dt[:20] / thdu.header['TIMEDEL']).astype(np.int)"
     ],
     "language": "python",
     "metadata": {},
     "outputs": []
    },
    {
     "cell_type": "code",
     "collapsed": false,
     "input": [
      "Image(filename='files/wat.jpg')"
     ],
     "language": "python",
     "metadata": {},
     "outputs": []
    },
    {
     "cell_type": "markdown",
     "metadata": {},
     "source": [
      "Let' break this down:\n",
      "\n",
      "    (dt[:20] / thdu.header['TIMEDEL']).astype(np.int)\n",
      "    \n",
      "    diego = dt[:20]\n",
      "    diego /= thdu.header['TIMEDEL']\n",
      "    diego = diego.astype(np.int)"
     ]
    },
    {
     "cell_type": "markdown",
     "metadata": {},
     "source": [
      "We can also access \"from the end\" of the array: here we get the last value:"
     ]
    },
    {
     "cell_type": "code",
     "collapsed": false,
     "input": [
      "dt[-1]"
     ],
     "language": "python",
     "metadata": {},
     "outputs": []
    },
    {
     "cell_type": "markdown",
     "metadata": {},
     "source": [
      "Let's bin the data up, so we can view it easier. Here I pick a single binning factor (in this case ~ 400 seconds), but remember Diego's talks (in fact, all our talks), and *explore* your data (so in this case look at different binning values). You might to also want to use `histogram` in a slightly-different way (e.g. giving the bins to use; see `help(np.histogram)`), or other functions."
     ]
    },
    {
     "cell_type": "code",
     "collapsed": false,
     "input": [
      "vals = np.histogram(dt, bins=100)"
     ],
     "language": "python",
     "metadata": {},
     "outputs": []
    },
    {
     "cell_type": "markdown",
     "metadata": {},
     "source": [
      "The histogram routine in NumPy returns both the binned values *and* the bin edges (*always* read the help to find out what is returned!) as a *tuple* (you can think of it as an array which you can not change)."
     ]
    },
    {
     "cell_type": "code",
     "collapsed": false,
     "input": [
      "vals"
     ],
     "language": "python",
     "metadata": {},
     "outputs": []
    },
    {
     "cell_type": "code",
     "collapsed": false,
     "input": [
      "Image('files/question.jpg')"
     ],
     "language": "python",
     "metadata": {},
     "outputs": []
    },
    {
     "cell_type": "markdown",
     "metadata": {},
     "source": [
      "Question: what have I done *wrong* here?\n",
      "\n",
      "Perhaps it's an \"instrumental effect\" that I've forgotten about..."
     ]
    },
    {
     "cell_type": "code",
     "collapsed": false,
     "input": [
      "(y,x) = vals\n",
      "print(y.shape)\n",
      "print(x.shape)"
     ],
     "language": "python",
     "metadata": {},
     "outputs": []
    },
    {
     "cell_type": "markdown",
     "metadata": {},
     "source": [
      "Question: why are these values not the same?"
     ]
    },
    {
     "cell_type": "code",
     "collapsed": false,
     "input": [
      "plt.plot(x[:-1], y)"
     ],
     "language": "python",
     "metadata": {},
     "outputs": []
    },
    {
     "cell_type": "markdown",
     "metadata": {},
     "source": [
      "Look around; there may be other useful routines! For instance, matplotlib has a routine that will bin up data using `histogram` and then plot it as a histogram:"
     ]
    },
    {
     "cell_type": "code",
     "collapsed": false,
     "input": [
      "plt.hist(dt, bins=100)"
     ],
     "language": "python",
     "metadata": {},
     "outputs": []
    },
    {
     "cell_type": "heading",
     "level": 3,
     "metadata": {},
     "source": [
      "FFT ahoy"
     ]
    },
    {
     "cell_type": "code",
     "collapsed": false,
     "input": [
      "cvals = np.fft.fft(y)\n",
      "print(\"shape={}\".format(cvals.shape))\n",
      "print(\"data type={}\".format(cvals.dtype))"
     ],
     "language": "python",
     "metadata": {},
     "outputs": []
    },
    {
     "cell_type": "code",
     "collapsed": false,
     "input": [
      "avals = np.abs(cvals)**2\n",
      "print(\"data type={}\".format(avals.dtype))"
     ],
     "language": "python",
     "metadata": {},
     "outputs": []
    },
    {
     "cell_type": "code",
     "collapsed": false,
     "input": [
      "plt.plot(avals)\n",
      "plt.yscale('LOG')\n",
      "plt.xlim(-5, 105)"
     ],
     "language": "python",
     "metadata": {},
     "outputs": []
    },
    {
     "cell_type": "code",
     "collapsed": false,
     "input": [
      "Image('files/question.jpg')"
     ],
     "language": "python",
     "metadata": {},
     "outputs": []
    },
    {
     "cell_type": "markdown",
     "metadata": {},
     "source": [
      "Question: how do you think I know to use `-5` and `105` for the x limits?"
     ]
    },
    {
     "cell_type": "code",
     "collapsed": false,
     "input": [
      "tstep = thdu.header['TIMEDEL']\n",
      "freqs = np.fft.fftfreq(y.size, tstep)\n",
      "idx = np.argsort(freqs)"
     ],
     "language": "python",
     "metadata": {},
     "outputs": []
    },
    {
     "cell_type": "markdown",
     "metadata": {},
     "source": [
      "The above was found via random googling: you will find that many questions are asked on StackOverflow; some are even answered.\n",
      "\n",
      "Some of these answers are even useful!"
     ]
    },
    {
     "cell_type": "code",
     "collapsed": false,
     "input": [
      "plt.plot(freqs[idx], avals[idx])\n",
      "plt.yscale('LOG')"
     ],
     "language": "python",
     "metadata": {},
     "outputs": []
    },
    {
     "cell_type": "markdown",
     "metadata": {},
     "source": [
      "We can get rid of that peak by subtracting the mean of the signal; note that we don't need to recalculate `freqs` (although there is no harm in doing so, as it is not a long calculation). \n",
      "\n",
      "Actually, I'm getting bored of this calculation, so let's automate it, since isn't that the whole point of computers?"
     ]
    },
    {
     "cell_type": "code",
     "collapsed": false,
     "input": [
      "def diego(times, tstep):\n",
      "    \"\"\"What Would Diego Do?\"\"\"\n",
      "    \n",
      "    fft = np.fft.fft(times)\n",
      "    real = np.abs(fft)**2\n",
      "    freqs = np.fft.fftfreq(times.size, tstep)\n",
      "    idx = np.argsort(freqs)\n",
      "    return (freqs[idx], real[idx])"
     ],
     "language": "python",
     "metadata": {},
     "outputs": []
    },
    {
     "cell_type": "code",
     "collapsed": false,
     "input": [
      "(a,b) = diego(y - y.mean(), tstep)\n",
      "plt.plot(a, b)"
     ],
     "language": "python",
     "metadata": {},
     "outputs": []
    },
    {
     "cell_type": "heading",
     "level": 3,
     "metadata": {},
     "source": [
      "Moar light curves"
     ]
    },
    {
     "cell_type": "code",
     "collapsed": false,
     "input": [
      "stimes = fits.open(\"data/swift.evt\")[1].data.field('time')"
     ],
     "language": "python",
     "metadata": {},
     "outputs": []
    },
    {
     "cell_type": "code",
     "collapsed": false,
     "input": [
      "Image(filename='files/wat.jpg')"
     ],
     "language": "python",
     "metadata": {},
     "outputs": []
    },
    {
     "cell_type": "markdown",
     "metadata": {},
     "source": [
      "It can quickly get easy to loose track of your variables, particularly if you start having to say `x1`, `x2`, `xgood`, `xgood2`, `x_this_is_going_to_work`, `x_arghhhhhhhhhhhhhhhhhhhhhhhhhhhhhhhhhhhhhhhhhhhhhhhhh`, ...\n",
      "\n",
      "You can find out what symbols have been defined with a few tricks:\n",
      "\n",
      "    *tim*?\n",
      "    times?\n",
      "    \n",
      "These bring up a separate frame/section of the web page to display information (not shown here), or - when run from the command line - will print out to the screen.\n",
      "\n",
      "    In [456]: *tim*?\n",
      "    RuntimeError\n",
      "    RuntimeWarning\n",
      "    stimes\n",
      "    times\n",
      "    \n",
      "    In [457]: times?\n",
      "    Type:            ndarray\n",
      "    String form:\n",
      "    [  1.86103829e+08   1.86103829e+08   1.86103830e+08 ...,   1.86145126e+08\n",
      "       1.86145127e+08   1.86145129e+08]\n",
      "    Length:          35782\n",
      "    File:            /home/dburke/anaconda/lib/python2.7/site-packages/numpy/__init__.py\n",
      "    Docstring:       <no docstring>\n",
      "    Class docstring:\n",
      "    ndarray(shape, dtype=float, buffer=None, offset=0,\n",
      "            strides=None, order=None)\n",
      "\n",
      "    An array object represents a multidimensional, homogeneous array\n",
      "    ..."
     ]
    },
    {
     "cell_type": "code",
     "collapsed": false,
     "input": [
      "dts = stimes - stimes[0]"
     ],
     "language": "python",
     "metadata": {},
     "outputs": []
    },
    {
     "cell_type": "code",
     "collapsed": false,
     "input": [
      "print(dts[0:10])\n",
      "print(dts.size)\n",
      "print(dts.dtype)"
     ],
     "language": "python",
     "metadata": {},
     "outputs": []
    },
    {
     "cell_type": "markdown",
     "metadata": {},
     "source": [
      "We could say the following\n",
      "\n",
      "    plt.hist(dts, bins=20000)\n",
      "    \n",
      "*but*\n",
      "\n",
      " - it would take a minute or two on my laptop\n",
      " - it does not deal with GTIs\n",
      " \n",
      "Remember, use the *best* tool you have for the job, even if it is written in C++ like SAS!"
     ]
    },
    {
     "cell_type": "code",
     "collapsed": false,
     "input": [
      "test = fits.open(\"data/lc.fits\")\n",
      "test.info()"
     ],
     "language": "python",
     "metadata": {},
     "outputs": []
    },
    {
     "cell_type": "code",
     "collapsed": false,
     "input": [
      "test[1].columns"
     ],
     "language": "python",
     "metadata": {},
     "outputs": []
    },
    {
     "cell_type": "code",
     "collapsed": false,
     "input": [
      "t = test[1].data.field('time')\n",
      "r = test[1].data.field('count_rate')"
     ],
     "language": "python",
     "metadata": {},
     "outputs": []
    },
    {
     "cell_type": "code",
     "collapsed": false,
     "input": [
      "plt.plot(t, r)"
     ],
     "language": "python",
     "metadata": {},
     "outputs": []
    },
    {
     "cell_type": "code",
     "collapsed": false,
     "input": [
      "t - t[0]"
     ],
     "language": "python",
     "metadata": {},
     "outputs": []
    },
    {
     "cell_type": "code",
     "collapsed": false,
     "input": [
      "(x,y) = diego(r, t[1] - t[0])"
     ],
     "language": "python",
     "metadata": {},
     "outputs": []
    },
    {
     "cell_type": "code",
     "collapsed": false,
     "input": [
      "plt.plot(x, y)"
     ],
     "language": "python",
     "metadata": {},
     "outputs": []
    },
    {
     "cell_type": "markdown",
     "metadata": {},
     "source": [
      "A really useful feature of NumPy is array indexing; that is, filtering a column. I used it above, with the output of `fftfreq`, but I really should highlight it a bit more:"
     ]
    },
    {
     "cell_type": "code",
     "collapsed": false,
     "input": [
      "plt.plot(x[x >= 0], y[x >= 0])"
     ],
     "language": "python",
     "metadata": {},
     "outputs": []
    },
    {
     "cell_type": "code",
     "collapsed": false,
     "input": [
      "idx = x >= 0\n",
      "plt.plot(x[idx], y[idx])\n",
      "plt.yscale('log')"
     ],
     "language": "python",
     "metadata": {},
     "outputs": []
    },
    {
     "cell_type": "code",
     "collapsed": false,
     "input": [
      "idx[0:10]"
     ],
     "language": "python",
     "metadata": {},
     "outputs": []
    },
    {
     "cell_type": "code",
     "collapsed": false,
     "input": [
      "idx[-11:-1]"
     ],
     "language": "python",
     "metadata": {},
     "outputs": []
    },
    {
     "cell_type": "code",
     "collapsed": false,
     "input": [
      "np.where((x > 0.003) & (x < 0.004))"
     ],
     "language": "python",
     "metadata": {},
     "outputs": []
    },
    {
     "cell_type": "code",
     "collapsed": false,
     "input": [
      "i, = np.where((x > 0.003) & (x < 0.004))"
     ],
     "language": "python",
     "metadata": {},
     "outputs": []
    },
    {
     "cell_type": "code",
     "collapsed": false,
     "input": [
      "for ii in i[0:7]:\n",
      "    print(\"x={:e}  y={:8.1f}\".format(x[ii], y[ii]))"
     ],
     "language": "python",
     "metadata": {},
     "outputs": []
    },
    {
     "cell_type": "markdown",
     "metadata": {},
     "source": [
      "I am now going to use this to see what the power spectrum due to the GTIs in the event file look like (well, approximately). "
     ]
    },
    {
     "cell_type": "code",
     "collapsed": false,
     "input": [
      "rone = r.copy()\n",
      "rone[r > 0] = 1.0\n",
      "plt.plot(t, rone)"
     ],
     "language": "python",
     "metadata": {},
     "outputs": []
    },
    {
     "cell_type": "code",
     "collapsed": false,
     "input": [
      "(xone,yone) = diego(rone, t[1] - t[0])\n",
      "plt.plot(x[x>=0], y[x>=0])\n",
      "plt.plot(xone[xone>=0], yone[xone>=0])\n",
      "plt.yscale('log')\n",
      "plt.text(0.001, 5e7, 'data', size=20, color='blue')\n",
      "plt.text(0.003, 5e7, 'gti', size=20, color='green')"
     ],
     "language": "python",
     "metadata": {},
     "outputs": []
    },
    {
     "cell_type": "heading",
     "level": 2,
     "metadata": {},
     "source": [
      "Running external code"
     ]
    },
    {
     "cell_type": "markdown",
     "metadata": {},
     "source": [
      "If you write a \"script\" then you can say\n",
      "\n",
      "    % python foo.py\n",
      "    \n",
      "or have\n",
      "\n",
      "    #!/usr/bin/env python\n",
      "    \n",
      "as the first line of the script, so that you can just say `./scriptname` after doing `chmod u+x scriptname` (please use something more relevant than `scriptname`!).\n",
      "\n",
      "You can also load code into IPython when it starts - e.g.\n",
      "\n",
      "    % ipython foo.py\n",
      "    \n",
      "or from within IPython by using `execfile` or `import`; at this point I will be way over time so will not go into this any further, but help is only a Google away.\n",
      "\n",
      "If you have used `chandra_repro`, `specextract`, `fluximage`, `reproject_obs`, `flux_obs`, or `merge_obs` then you have used Python scripts: these look like normal CIAO tools but are written in Python (most of their job is to call CIAO tools in order, but they also do some data manipulation and calculation)."
     ]
    },
    {
     "cell_type": "code",
     "collapsed": false,
     "input": [],
     "language": "python",
     "metadata": {},
     "outputs": []
    }
   ],
   "metadata": {}
  }
 ]
}